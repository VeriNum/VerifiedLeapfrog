{
 "cells": [
  {
   "cell_type": "code",
   "execution_count": 17,
   "metadata": {},
   "outputs": [],
   "source": [
    "using Plots\n",
    "using Printf\n",
    "using LinearAlgebra\n",
    "using IntervalArithmetic\n",
    "using Random, Distributions\n",
    "using Formatting\n",
    "using Plots.PlotMeasures"
   ]
  },
  {
   "cell_type": "code",
   "execution_count": 18,
   "metadata": {},
   "outputs": [
    {
     "data": {
      "text/plain": [
       "leapfrog64 (generic function with 1 method)"
      ]
     },
     "execution_count": 18,
     "metadata": {},
     "output_type": "execute_result"
    }
   ],
   "source": [
    "function leapfrog32(x::Float32,v::Float32,n::Int32,h::Float32)::Tuple{Float32,Float32}\n",
    "    for i in 1:n\n",
    "        xnew         = (x + h * v) + (h * h * - x) / 2f0 \n",
    "        vnew         = v + (h*(- x + - xnew)/2f0) \n",
    "        x            = xnew\n",
    "        v            = vnew\n",
    "    end\n",
    "    return (x,v)\n",
    "end\n",
    "\n",
    "function leapfrog64(x::Float64,v::Float64,n::Int64,h::Float64)::Tuple{Float64,Float64}\n",
    "    for i in 1:n\n",
    "        xnew         = (x + h * v) + (h * h * - x) / 2 \n",
    "        vnew         = v + (h*(- x + - xnew)/2) \n",
    "        x            = xnew\n",
    "        v            = vnew\n",
    "    end\n",
    "    return (x,v)\n",
    "end"
   ]
  },
  {
   "cell_type": "code",
   "execution_count": 19,
   "metadata": {},
   "outputs": [],
   "source": [
    "# choose random starting values in interval\n",
    "x1 = [Float64(rand(Uniform(-1,1))) for n in 1:1000000]\n",
    "v1 = [Float64(rand(Uniform(-1,1))) for n in 1:1000000]\n",
    "x2 = [Float32(x) for x in x1]\n",
    "v2 = [Float32(v) for v in v1]\n",
    "# define time step\n",
    "h32 = (1f0/32f0)\n",
    "h64 = 1/32\n",
    "# integrate\n",
    "LF32x = [leapfrog32(x2[i],v2[i],Int32(1),h32)[1] for i in 1:1000000]\n",
    "LF64x = [leapfrog64(x1[i],v1[i],1,h64)[1] for i in 1:1000000]\n",
    "# determine error\n",
    "xs   = [abs(LF32x[i] - LF64x[i]) for i in 1:1000000]\n",
    "max1 = maximum(xs)\n",
    "ours = 4719104053608481 / 37778931862957161709568\n",
    "\n",
    "plot([ours for i in 1:1000000],seriestype=\"vline\",label=\"formally proven bound=$ours\" )\n",
    "plot!([max1 for i in 1:1000000],seriestype=\"vline\",label=\"worst empirical error=$max1\" )\n",
    "plota = histogram!(xs, xlabel = \"floating-point error\",ylabel = \"frequency\",\n",
    "label=\"empirical error\",size = (900, 500),bottom_margin = 10mm,left_margin = 10mm,\n",
    "legendfontsize=12, yguidefontsize=12, xguidefontsize=12, xtickfontsize = 12, ytickfontsize = 12)\n",
    "savefig(plota,\"errors.png\")"
   ]
  },
  {
   "cell_type": "code",
   "execution_count": 20,
   "metadata": {},
   "outputs": [
    {
     "data": {
      "text/plain": [
       "0"
      ]
     },
     "execution_count": 20,
     "metadata": {},
     "output_type": "execute_result"
    }
   ],
   "source": [
    "plot([ours for i in -1:1],seriestype=\"hline\",label=\"formally proven bound=$ours\" )\n",
    "plotb = scatter!(x1,xs, ylabel = \"floating-point error\",xlabel = \"position val\", \n",
    "    size = (900, 500),bottom_margin = 10mm,left_margin = 10mm,\n",
    "    yguidefontsize=12, xguidefontsize=12, xtickfontsize = 12, ytickfontsize = 12, label=\"empirical error\",\n",
    "    xlims = (-1,1))\n",
    "savefig(plotb,\"errors2.png\")\n",
    "IJulia.clear_output(true)"
   ]
  },
  {
   "cell_type": "code",
   "execution_count": null,
   "metadata": {},
   "outputs": [],
   "source": []
  }
 ],
 "metadata": {
  "kernelspec": {
   "display_name": "Julia 1.6.2",
   "language": "julia",
   "name": "julia-1.6"
  },
  "language_info": {
   "file_extension": ".jl",
   "mimetype": "application/julia",
   "name": "julia",
   "version": "1.6.2"
  }
 },
 "nbformat": 4,
 "nbformat_minor": 2
}
