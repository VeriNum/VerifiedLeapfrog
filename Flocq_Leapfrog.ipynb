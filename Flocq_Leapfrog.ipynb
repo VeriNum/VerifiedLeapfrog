{
 "cells": [
  {
   "cell_type": "code",
   "execution_count": 1,
   "metadata": {
    "coq_kernel_metadata": {
     "auto_roll_back": true,
     "cell_id": "9e02b712fb7346e1b33db7de965664bb",
     "evaluated": true,
     "execution_id": "21776766aecc46739e2fe9c831d38287",
     "rolled_back": false
    }
   },
   "outputs": [
    {
     "data": {
      "text/html": [
       "\n",
       "<div class=\"coq_kernel_output_area\">\n",
       "    <pre></pre>\n",
       "</div>\n",
       "\n",
       "<div class=\"coq_kernel_rich_cell_output coq_kernel_status_message_area\" style=\"padding: 5px 0px;\">\n",
       "    <i class=\"fa-check fa text-success\"></i>\n",
       "    <span>Cell evaluated.</span>\n",
       "</div>\n",
       "\n",
       "<div class=\"coq_kernel_rich_cell_output coq_kernel_status_message_area coq_kernel_rolled_back_status_message\" style=\"padding: 5px 0px; display: none;\">\n",
       "    <i class=\"fa-exclamation-circle fa text-info\"></i>\n",
       "    <span>Cell rolled back.</span>\n",
       "</div>\n",
       "\n",
       "<div class=\"coq_kernel_rich_cell_output coq_kernel_roll_back_controls_area\" style=\"display: none; position: relative;\">\n",
       "    <button class=\"btn btn-default btn-xs coq_kernel_roll_back_button\" onclick=\"CoqKernel.roll_back(this)\">\n",
       "        <i class=\"fa-step-backward fa\"></i>\n",
       "        <span class=\"toolbar-btn-label\">Rollback cell</span>\n",
       "    </button>\n",
       "\n",
       "    <div style=\"display: inline-block; vertical-align: middle; padding-left: 0; padding-right: 0;\">\n",
       "      <input class=\"coq_kernel_auto_roll_back_checkbox\" type=\"checkbox\" value=\"\" onchange=\"CoqKernel.toggle_auto_roll_back(this)\" checked>\n",
       "      <label\">Auto rollback</label>\n",
       "    </div>\n",
       "</div>\n"
      ],
      "text/plain": []
     },
     "execution_count": 35,
     "metadata": {
      "coq_kernel_evaluated": true,
      "coq_kernel_execution_id": "21776766aecc46739e2fe9c831d38287",
      "coq_kernel_rolled_back": false
     },
     "output_type": "execute_result"
    }
   ],
   "source": [
    "From Coq Require Import ZArith Reals Psatz.\n",
    "From Flocq Require Import Core Plus_error.\n",
    "\n",
    "Open Scope R_scope."
   ]
  },
  {
   "cell_type": "code",
   "execution_count": 35,
   "metadata": {
    "coq_kernel_metadata": {
     "auto_roll_back": true,
     "cell_id": "7cd5a402de234ee892a1b50d44e755ba",
     "evaluated": true,
     "execution_id": "02691a0aa1e54e7bb6b9f06eb2908771",
     "rolled_back": false
    }
   },
   "outputs": [
    {
     "data": {
      "text/html": [
       "\n",
       "<div class=\"coq_kernel_output_area\">\n",
       "    <pre></pre>\n",
       "</div>\n",
       "\n",
       "<div class=\"coq_kernel_rich_cell_output coq_kernel_status_message_area\" style=\"padding: 5px 0px;\">\n",
       "    <i class=\"fa-check fa text-success\"></i>\n",
       "    <span>Cell evaluated.</span>\n",
       "</div>\n",
       "\n",
       "<div class=\"coq_kernel_rich_cell_output coq_kernel_status_message_area coq_kernel_rolled_back_status_message\" style=\"padding: 5px 0px; display: none;\">\n",
       "    <i class=\"fa-exclamation-circle fa text-info\"></i>\n",
       "    <span>Cell rolled back.</span>\n",
       "</div>\n",
       "\n",
       "<div class=\"coq_kernel_rich_cell_output coq_kernel_roll_back_controls_area\" style=\"display: none; position: relative;\">\n",
       "    <button class=\"btn btn-default btn-xs coq_kernel_roll_back_button\" onclick=\"CoqKernel.roll_back(this)\">\n",
       "        <i class=\"fa-step-backward fa\"></i>\n",
       "        <span class=\"toolbar-btn-label\">Rollback cell</span>\n",
       "    </button>\n",
       "\n",
       "    <div style=\"display: inline-block; vertical-align: middle; padding-left: 0; padding-right: 0;\">\n",
       "      <input class=\"coq_kernel_auto_roll_back_checkbox\" type=\"checkbox\" value=\"\" onchange=\"CoqKernel.toggle_auto_roll_back(this)\" checked>\n",
       "      <label\">Auto rollback</label>\n",
       "    </div>\n",
       "</div>\n"
      ],
      "text/plain": []
     },
     "execution_count": 37,
     "metadata": {
      "coq_kernel_evaluated": true,
      "coq_kernel_execution_id": "02691a0aa1e54e7bb6b9f06eb2908771",
      "coq_kernel_rolled_back": false
     },
     "output_type": "execute_result"
    }
   ],
   "source": [
    "Definition leapfrog_1 x0 v0 h F := \n",
    "    let v12 := v0 + 0.5*  h* F x0 in\n",
    "    let x1  := x0 + h* v0 in\n",
    "    pair x1 v12.\n",
    "    \n",
    "Definition leapfrog x0 v0 h F := \n",
    "    let v12 := snd (leapfrog_1 x0 v0 h F) in\n",
    "    let x1  := fst (leapfrog_1 x0 v0 h F) in\n",
    "    let v1  := v12 + 0.5* h* F x1 in\n",
    "    pair x1 v1."
   ]
  },
  {
   "cell_type": "code",
   "execution_count": 37,
   "metadata": {
    "coq_kernel_metadata": {
     "auto_roll_back": true,
     "cell_id": "e0efdef8dc4640708a88ab4f9719158e",
     "evaluated": true,
     "execution_id": "da351e134994407b84be857dcd821870",
     "rolled_back": false
    }
   },
   "outputs": [
    {
     "data": {
      "text/html": [
       "\n",
       "<div class=\"coq_kernel_output_area\">\n",
       "    <pre></pre>\n",
       "</div>\n",
       "\n",
       "<div class=\"coq_kernel_rich_cell_output coq_kernel_status_message_area\" style=\"padding: 5px 0px;\">\n",
       "    <i class=\"fa-check fa text-success\"></i>\n",
       "    <span>Cell evaluated.</span>\n",
       "</div>\n",
       "\n",
       "<div class=\"coq_kernel_rich_cell_output coq_kernel_status_message_area coq_kernel_rolled_back_status_message\" style=\"padding: 5px 0px; display: none;\">\n",
       "    <i class=\"fa-exclamation-circle fa text-info\"></i>\n",
       "    <span>Cell rolled back.</span>\n",
       "</div>\n",
       "\n",
       "<div class=\"coq_kernel_rich_cell_output coq_kernel_roll_back_controls_area\" style=\"display: none; position: relative;\">\n",
       "    <button class=\"btn btn-default btn-xs coq_kernel_roll_back_button\" onclick=\"CoqKernel.roll_back(this)\">\n",
       "        <i class=\"fa-step-backward fa\"></i>\n",
       "        <span class=\"toolbar-btn-label\">Rollback cell</span>\n",
       "    </button>\n",
       "\n",
       "    <div style=\"display: inline-block; vertical-align: middle; padding-left: 0; padding-right: 0;\">\n",
       "      <input class=\"coq_kernel_auto_roll_back_checkbox\" type=\"checkbox\" value=\"\" onchange=\"CoqKernel.toggle_auto_roll_back(this)\" checked>\n",
       "      <label\">Auto rollback</label>\n",
       "    </div>\n",
       "</div>\n"
      ],
      "text/plain": []
     },
     "execution_count": 56,
     "metadata": {
      "coq_kernel_evaluated": true,
      "coq_kernel_execution_id": "da351e134994407b84be857dcd821870",
      "coq_kernel_rolled_back": false
     },
     "output_type": "execute_result"
    }
   ],
   "source": [
    "Definition id (x:R) := x.\n",
    "\n",
    "Lemma leapfrog_gt:\n",
    "     forall x0 v0 h,\n",
    "     Rgt x0 0 -> Rgt v0 0 -> Rgt h 0 ->\n",
    "     Rgt (fst (leapfrog_1 x0 v0 h id)) 0. \n",
    "\n",
    "Proof.\n",
    "intros x0 v0 h Hx Hv Hh.\n",
    "unfold leapfrog_1.\n",
    "unfold fst. \n",
    "assert (H1 : Rlt 0 (h * v0)).\n",
    "replace 0 with (h * 0).\n",
    "apply (Rmult_lt_compat_l h 0 v0).\n",
    "unfold Rgt in Hh; auto with real. \n",
    "unfold Rgt in Hv; auto with real.\n",
    "auto with real.\n",
    "unfold Rgt.\n",
    "unfold Rgt in Hx.\n",
    "assert (H2 : Rlt (x0 + 0) (x0 + h * v0)).\n",
    "apply (Rplus_lt_compat_l x0 0 (h*v0)); auto with real.\n",
    "(replace (x0 +0) with (x0) in H2); auto with real.\n",
    "apply (Rlt_trans 0 x0 (x0 + h * v0)); auto with real.\n",
    "Qed."
   ]
  },
  {
   "cell_type": "code",
   "execution_count": null,
   "metadata": {
    "coq_kernel_metadata": {
     "auto_roll_back": true
    }
   },
   "outputs": [],
   "source": []
  }
 ],
 "metadata": {
  "kernelspec": {
   "display_name": "Coq",
   "language": "coq",
   "name": "coq"
  },
  "language_info": {
   "file_extension": ".v",
   "mimetype": "text/x-coq",
   "name": "coq",
   "version": "8.13.2"
  }
 },
 "nbformat": 4,
 "nbformat_minor": 4
}
