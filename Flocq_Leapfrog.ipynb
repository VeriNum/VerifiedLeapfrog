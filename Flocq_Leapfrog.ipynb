{
 "cells": [
  {
   "cell_type": "code",
   "execution_count": 1,
   "metadata": {
    "coq_kernel_metadata": {
     "auto_roll_back": true,
     "cell_id": "7d6e53e530fe4c0dabcf7844ed0ebd18",
     "execution_id": "fe2a1487d5b14f4287b2ae7d2cf487ee"
    }
   },
   "outputs": [
    {
     "data": {
      "text/html": [
       "\n",
       "<div class=\"coq_kernel_output_area\">\n",
       "    <pre></pre>\n",
       "</div>\n",
       "\n",
       "<div class=\"coq_kernel_rich_cell_output coq_kernel_status_message_area\" style=\"padding: 5px 0px;\">\n",
       "    <i class=\"fa-check fa text-success\"></i>\n",
       "    <span>Cell evaluated.</span>\n",
       "</div>\n",
       "\n",
       "<div class=\"coq_kernel_rich_cell_output coq_kernel_status_message_area coq_kernel_rolled_back_status_message\" style=\"padding: 5px 0px; display: none;\">\n",
       "    <i class=\"fa-exclamation-circle fa text-info\"></i>\n",
       "    <span>Cell rolled back.</span>\n",
       "</div>\n",
       "\n",
       "<div class=\"coq_kernel_rich_cell_output coq_kernel_roll_back_controls_area\" style=\"display: none; position: relative;\">\n",
       "    <button class=\"btn btn-default btn-xs coq_kernel_roll_back_button\" onclick=\"CoqKernel.roll_back(this)\">\n",
       "        <i class=\"fa-step-backward fa\"></i>\n",
       "        <span class=\"toolbar-btn-label\">Rollback cell</span>\n",
       "    </button>\n",
       "\n",
       "    <div style=\"display: inline-block; vertical-align: middle; padding-left: 0; padding-right: 0;\">\n",
       "      <input class=\"coq_kernel_auto_roll_back_checkbox\" type=\"checkbox\" value=\"\" onchange=\"CoqKernel.toggle_auto_roll_back(this)\" checked>\n",
       "      <label\">Auto rollback</label>\n",
       "    </div>\n",
       "</div>\n"
      ],
      "text/plain": []
     },
     "execution_count": 4,
     "metadata": {
      "coq_kernel_evaluated": true,
      "coq_kernel_execution_id": "fe2a1487d5b14f4287b2ae7d2cf487ee",
      "coq_kernel_rolled_back": false
     },
     "output_type": "execute_result"
    }
   ],
   "source": [
    "From Coq Require Import ZArith Reals Psatz.\n",
    "From Flocq Require Import Core Plus_error.\n",
    "\n",
    "Open Scope R_scope."
   ]
  },
  {
   "cell_type": "markdown",
   "metadata": {
    "coq_kernel_metadata": {
     "auto_roll_back": true
    }
   },
   "source": [
    "## The Leapfrog Integration Scheme\n",
    "\n",
    "The \"leapfrog\" integrator is commonly used in scientific computing for modeling the behavior of a physical system over a long period of time starting from some initial conditions. \n",
    "\n",
    "For a one-dimensional system, the equations of motion are \n",
    "$$\\dot{x} = v$$\n",
    "$$m\\dot{v} = F(x) = -\\frac{dU(x)}{dx},$$\n",
    "where $x$ is position of the body under consideration with mass $m$ (e.g. a planet, particle, etc.), $v$ is the velocity, $F(x)$ is the force on the body when it is at position $x$, and $U(x)$ is the potential energy of the body. \n",
    "\n",
    "One step of the \"leapfrog\" (aka velocity [Verlet](https://en.wikipedia.org/wiki/Verlet_integration)) integrator for predicting the future position and velocity $(x_{n+1}, v_{n+1})$ of the above equations of motion starting from $(x_n,v_n)$ is given by \n",
    "\n",
    "$$v_{n+1/2} = v_n + \\frac{1}{2}hF(x_n)$$\n",
    "\n",
    "$$x_{n+1} = x_n + hv_n$$\n",
    "\n",
    "$$v_{n+1} = v_{n+1/2} + \\frac{1}{2} h F(x_{n+1}),$$\n",
    "\n",
    "where $h$ is the *time step* indicating how far forward in time the system has advanced. \n",
    "\n",
    "We can define the leapfrog integrator for a body with unit mass as follows. "
   ]
  },
  {
   "cell_type": "code",
   "execution_count": 4,
   "metadata": {
    "coq_kernel_metadata": {
     "auto_roll_back": true,
     "cell_id": "5add7606c53f42eb87ae2b0e088e2365",
     "execution_id": "1e4c075649e74662824a2675f6e0134b"
    }
   },
   "outputs": [
    {
     "data": {
      "text/html": [
       "\n",
       "<div class=\"coq_kernel_output_area\">\n",
       "    <pre></pre>\n",
       "</div>\n",
       "\n",
       "<div class=\"coq_kernel_rich_cell_output coq_kernel_status_message_area\" style=\"padding: 5px 0px;\">\n",
       "    <i class=\"fa-check fa text-success\"></i>\n",
       "    <span>Cell evaluated.</span>\n",
       "</div>\n",
       "\n",
       "<div class=\"coq_kernel_rich_cell_output coq_kernel_status_message_area coq_kernel_rolled_back_status_message\" style=\"padding: 5px 0px; display: none;\">\n",
       "    <i class=\"fa-exclamation-circle fa text-info\"></i>\n",
       "    <span>Cell rolled back.</span>\n",
       "</div>\n",
       "\n",
       "<div class=\"coq_kernel_rich_cell_output coq_kernel_roll_back_controls_area\" style=\"display: none; position: relative;\">\n",
       "    <button class=\"btn btn-default btn-xs coq_kernel_roll_back_button\" onclick=\"CoqKernel.roll_back(this)\">\n",
       "        <i class=\"fa-step-backward fa\"></i>\n",
       "        <span class=\"toolbar-btn-label\">Rollback cell</span>\n",
       "    </button>\n",
       "\n",
       "    <div style=\"display: inline-block; vertical-align: middle; padding-left: 0; padding-right: 0;\">\n",
       "      <input class=\"coq_kernel_auto_roll_back_checkbox\" type=\"checkbox\" value=\"\" onchange=\"CoqKernel.toggle_auto_roll_back(this)\" checked>\n",
       "      <label\">Auto rollback</label>\n",
       "    </div>\n",
       "</div>\n"
      ],
      "text/plain": []
     },
     "execution_count": 7,
     "metadata": {
      "coq_kernel_evaluated": true,
      "coq_kernel_execution_id": "1e4c075649e74662824a2675f6e0134b",
      "coq_kernel_rolled_back": false
     },
     "output_type": "execute_result"
    }
   ],
   "source": [
    "Definition leapfrog_12 xn vn h F := \n",
    "    let vnp12 := vn + 0.5*  h* F xn in\n",
    "    let xnp1  := xn + h* vn in\n",
    "    pair xnp1 vnp12.\n",
    "    \n",
    "Definition leapfrog_step x0 v0 h F := \n",
    "    let v12 := snd (leapfrog_12 x0 v0 h F) in\n",
    "    let x1  := fst (leapfrog_12 x0 v0 h F) in\n",
    "    let v1  := v12 + 0.5* h* F x1 in\n",
    "    pair x1 v1.\n",
    "    \n",
    "Fixpoint leapfrog x0 v0 h F (n:nat):=\n",
    "    match n with \n",
    "    | 0 => pair x0 v0\n",
    "    | S n' => \n",
    "        let xn := fst (leapfrog_step x0 v0 h F) in\n",
    "        let vn := snd (leapfrog_step x0 v0 h F) in\n",
    "        leapfrog xn vn h F (n'-1)\n",
    "    end."
   ]
  },
  {
   "cell_type": "markdown",
   "metadata": {
    "coq_kernel_metadata": {
     "auto_roll_back": true
    }
   },
   "source": [
    "## A simple exercise\n",
    "\n",
    "A simple proof exercise for the leapfrog scheme uses the simple harmonic oscillator as an example. \n",
    "\n",
    "The simple harmonic oscillator has a linear forcing function because the potential energy is given by \n",
    "$$U(x) = \\frac{1}{2}kx^2.$$ Thus, a simple proof exercise for the definition of the leapfrog scheme is to prove that, for a linear forcing function with $k=1$ and strictly positive initial conditions, the position and velocity return to the initial conditions after 50 steps at $h=0.02T$ where $T=2\\pi$ is the period of the oscillator. "
   ]
  },
  {
   "cell_type": "code",
   "execution_count": null,
   "metadata": {
    "coq_kernel_metadata": {
     "auto_roll_back": true,
     "cell_id": "e2cecc6fa47f4c2cb254bf0bf953c23c",
     "execution_id": "fe7d163b0dd04a38bcf7b7bfeeaa3d8c"
    }
   },
   "outputs": [],
   "source": [
    "Definition F (x:R) := -1 * x.\n",
    "\n",
    "Lemma leapfrog_returns:\n",
    "    forall x0 v0 h,\n",
    "    x0 = 1 -> v0 = 0 -> h = (0.02 * 2 * PI) ->\n",
    "    (leapfrog x0 v0 h F 50) = pair x0 v0. \n",
    "\n",
    "Proof.\n",
    "intros x0 v0 h Hx Hv Hh.\n",
    "unfold leapfrog.\n",
    "simpl."
   ]
  },
  {
   "cell_type": "markdown",
   "metadata": {
    "coq_kernel_metadata": {
     "auto_roll_back": true,
     "cell_id": "b648a26961b34bde827b2248b2d48899",
     "execution_id": "4efae8b31bf847af8dab1eeed4187f5f"
    }
   },
   "source": [
    "The following definition of a symplectic map is taken from the paper [Why is the Boris alogrithm so good?](https://aip-scitation-org.proxy.library.cornell.edu/doi/pdf/10.1063/1.4818428), which clearly communicates the fact that symplectic maps are always volume preserving, but volume preserving maps are not necessarily symplectic. "
   ]
  },
  {
   "cell_type": "markdown",
   "metadata": {
    "coq_kernel_metadata": {
     "auto_roll_back": true
    }
   },
   "source": [
    "A one-step map $$\\psi : \\mathbf{z}_k \\equiv (\\mathbf{x}_k, \\mathbf{v}_k) \\rightarrow \\mathbf{z}_{k+1} \\equiv (\\mathbf{x}_{k+1}, \\mathbf{v}_{k+1})$$ is **symplectic** if its [Jacobian matrix](https://en.wikipedia.org/wiki/Jacobian_matrix_and_determinant) $$A = \\frac{\\partial \\psi }{\\partial \\mathbf{z}_k}$$ is **symplectic**. Specifically, if $$A^T J A = J$$ where $$ J =  \\begin{pmatrix}\n",
    "0 & I \\\\\n",
    "-I & 0 \n",
    "\\end{pmatrix}.$$ \n",
    "\n",
    "For a system of dimension $n$, we can write the block Jacobian with blocks of size $n \\times n$, \n",
    "\n",
    "$$ A =  \\begin{pmatrix}\n",
    "S_1 & S_2 \\\\\n",
    "S_3 & S_4\n",
    "\\end{pmatrix}.$$ \n",
    "\n",
    "We can therefore define a **symplectic** Jacobian as one with blocks that satisfy\n",
    "\n",
    "$$S_1S_2^T = S_2S_1^T $$\n",
    "\n",
    "$$S_3S_4^T = S_4S_3^T $$\n",
    "\n",
    "$$S_1S_4^T - S_2S_3^T = I.$$\n",
    "\n",
    "Given that we are working with at most three-dimensions, the above set of necessary and sufficient conditions for symplecticity on the block componenets of the Jacobian allow us to avoid dealing with more abstract definitions of matrices in Coq."
   ]
  },
  {
   "cell_type": "markdown",
   "metadata": {
    "coq_kernel_metadata": {
     "auto_roll_back": true
    }
   },
   "source": [
    "In the one-dimensional case, observe that area-preservation is a sufficient condition for symplecticity. More specifically, the determinant of the Jacobian of a one-dimensional symplectic map is 1. "
   ]
  },
  {
   "cell_type": "code",
   "execution_count": 16,
   "metadata": {
    "coq_kernel_metadata": {
     "auto_roll_back": true,
     "cell_id": "8a4c3fb812cd4a618e0054ae30956cea",
     "execution_id": "0544632a5af64916abd0c917cea92d9d"
    }
   },
   "outputs": [
    {
     "data": {
      "text/html": [
       "\n",
       "<div class=\"coq_kernel_rich_cell_output coq_kernel_status_message_area coq_kernel_rolled_back_status_message\" style=\"padding: 5px 0px;\">\n",
       "    <i class=\"fa-exclamation-circle fa text-info\"></i>\n",
       "    <span>Cell rolled back.</span>\n",
       "</div>\n"
      ],
      "text/plain": [
       "Cell rolled back."
      ]
     },
     "execution_count": 17,
     "metadata": {
      "coq_kernel_evaluated": true,
      "coq_kernel_execution_id": "0544632a5af64916abd0c917cea92d9d",
      "coq_kernel_rolled_back": true
     },
     "output_type": "execute_result"
    }
   ],
   "source": [
    "Definition is_symplectic_1d (jacobian:(R *R)*(R *R)) := \n",
    "    let S1 := fst(fst(jacobian)) in\n",
    "    let S2 := snd(fst(jacobian)) in\n",
    "    let S3 := fst(snd(jacobian)) in\n",
    "    let S4 := snd(snd(jacobian)) in \n",
    "    S1*S4 - S2*S3 = 1."
   ]
  },
  {
   "cell_type": "code",
   "execution_count": 17,
   "metadata": {
    "coq_kernel_metadata": {
     "auto_roll_back": true,
     "cell_id": "e975eeff2eea4b07868960089517e0b2",
     "execution_id": "e27f0f48726e4f7caf26679f137f469a"
    }
   },
   "outputs": [
    {
     "data": {
      "text/html": [
       "\n",
       "<div class=\"coq_kernel_rich_cell_output coq_kernel_status_message_area coq_kernel_rolled_back_status_message\" style=\"padding: 5px 0px;\">\n",
       "    <i class=\"fa-exclamation-circle fa text-info\"></i>\n",
       "    <span>Cell rolled back.</span>\n",
       "</div>\n"
      ],
      "text/plain": [
       "Cell rolled back."
      ]
     },
     "execution_count": 18,
     "metadata": {
      "coq_kernel_evaluated": true,
      "coq_kernel_execution_id": "e27f0f48726e4f7caf26679f137f469a",
      "coq_kernel_rolled_back": true
     },
     "output_type": "execute_result"
    }
   ],
   "source": [
    "Definition jacob_leapfrog_1 xn h (dFdx: R -> R) :=\n",
    "    let s1 := 1.0 in\n",
    "    let s2 := h in\n",
    "    let s3 := h* dFdx xn in \n",
    "    let s4 := 1.0 in \n",
    "    pair (pair s1 s2) (pair s3 s4). "
   ]
  },
  {
   "cell_type": "code",
   "execution_count": 18,
   "metadata": {
    "coq_kernel_metadata": {
     "auto_roll_back": true,
     "cell_id": "27c20f11391d4096bfd86d3ff4c8e1ff",
     "execution_id": "e14d1c3b071648c5a76597ae3cb107c7"
    }
   },
   "outputs": [
    {
     "data": {
      "text/html": [
       "\n",
       "<div class=\"coq_kernel_rich_cell_output coq_kernel_status_message_area coq_kernel_rolled_back_status_message\" style=\"padding: 5px 0px;\">\n",
       "    <i class=\"fa-exclamation-circle fa text-info\"></i>\n",
       "    <span>Cell rolled back.</span>\n",
       "</div>\n"
      ],
      "text/plain": [
       "Cell rolled back."
      ]
     },
     "execution_count": 21,
     "metadata": {
      "coq_kernel_evaluated": true,
      "coq_kernel_execution_id": "e14d1c3b071648c5a76597ae3cb107c7",
      "coq_kernel_rolled_back": true
     },
     "output_type": "execute_result"
    }
   ],
   "source": [
    "Lemma leapfrog1_is_symplectic:\n",
    "     forall x0 h,\n",
    "     x0 = 0 -> Rgt h 0 ->\n",
    "     is_symplectic_1d (jacob_leapfrog_1 x0 h id).\n",
    "     \n",
    "Proof. \n",
    "intros x0 h Hx Hh; unfold is_symplectic_1d; unfold jacob_leapfrog_1; unfold fst; unfold snd; unfold id; nra. "
   ]
  },
  {
   "cell_type": "code",
   "execution_count": null,
   "metadata": {
    "coq_kernel_metadata": {
     "auto_roll_back": true
    }
   },
   "outputs": [],
   "source": []
  }
 ],
 "metadata": {
  "kernelspec": {
   "display_name": "Coq",
   "language": "coq",
   "name": "coq"
  },
  "language_info": {
   "file_extension": ".v",
   "mimetype": "text/x-coq",
   "name": "coq",
   "version": "8.13.2"
  }
 },
 "nbformat": 4,
 "nbformat_minor": 4
}
