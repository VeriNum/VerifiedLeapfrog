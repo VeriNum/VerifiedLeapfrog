{
 "cells": [
  {
   "cell_type": "code",
   "execution_count": 1,
   "metadata": {
    "coq_kernel_metadata": {
     "auto_roll_back": true,
     "cell_id": "d77c152e6cca475d8443edc933799a40",
     "evaluated": true,
     "execution_id": "84a5894b0c064ad08a26bcd123c77f0b",
     "rolled_back": false
    }
   },
   "outputs": [
    {
     "data": {
      "text/html": [
       "\n",
       "<div class=\"coq_kernel_output_area\">\n",
       "    <pre></pre>\n",
       "</div>\n",
       "\n",
       "<div class=\"coq_kernel_rich_cell_output coq_kernel_status_message_area\" style=\"padding: 5px 0px;\">\n",
       "    <i class=\"fa-check fa text-success\"></i>\n",
       "    <span>Cell evaluated.</span>\n",
       "</div>\n",
       "\n",
       "<div class=\"coq_kernel_rich_cell_output coq_kernel_status_message_area coq_kernel_rolled_back_status_message\" style=\"padding: 5px 0px; display: none;\">\n",
       "    <i class=\"fa-exclamation-circle fa text-info\"></i>\n",
       "    <span>Cell rolled back.</span>\n",
       "</div>\n",
       "\n",
       "<div class=\"coq_kernel_rich_cell_output coq_kernel_roll_back_controls_area\" style=\"display: none; position: relative;\">\n",
       "    <button class=\"btn btn-default btn-xs coq_kernel_roll_back_button\" onclick=\"CoqKernel.roll_back(this)\">\n",
       "        <i class=\"fa-step-backward fa\"></i>\n",
       "        <span class=\"toolbar-btn-label\">Rollback cell</span>\n",
       "    </button>\n",
       "\n",
       "    <div style=\"display: inline-block; vertical-align: middle; padding-left: 0; padding-right: 0;\">\n",
       "      <input class=\"coq_kernel_auto_roll_back_checkbox\" type=\"checkbox\" value=\"\" onchange=\"CoqKernel.toggle_auto_roll_back(this)\" checked>\n",
       "      <label\">Auto rollback</label>\n",
       "    </div>\n",
       "</div>\n"
      ],
      "text/plain": []
     },
     "execution_count": 128,
     "metadata": {
      "coq_kernel_evaluated": true,
      "coq_kernel_execution_id": "84a5894b0c064ad08a26bcd123c77f0b",
      "coq_kernel_rolled_back": false
     },
     "output_type": "execute_result"
    }
   ],
   "source": [
    "From Coq Require Import ZArith Reals Psatz.\n",
    "From Flocq Require Import Core Plus_error.\n",
    "\n",
    "Open Scope R_scope."
   ]
  },
  {
   "cell_type": "code",
   "execution_count": 128,
   "metadata": {
    "coq_kernel_metadata": {
     "auto_roll_back": true,
     "cell_id": "1f9b1df7bc1348e38bd683e4457c5120",
     "evaluated": true,
     "execution_id": "e578b4a5adc0438eb7700832504d6171",
     "rolled_back": false
    }
   },
   "outputs": [
    {
     "data": {
      "text/html": [
       "\n",
       "<div class=\"coq_kernel_output_area\">\n",
       "    <pre></pre>\n",
       "</div>\n",
       "\n",
       "<div class=\"coq_kernel_rich_cell_output coq_kernel_status_message_area\" style=\"padding: 5px 0px;\">\n",
       "    <i class=\"fa-check fa text-success\"></i>\n",
       "    <span>Cell evaluated.</span>\n",
       "</div>\n",
       "\n",
       "<div class=\"coq_kernel_rich_cell_output coq_kernel_status_message_area coq_kernel_rolled_back_status_message\" style=\"padding: 5px 0px; display: none;\">\n",
       "    <i class=\"fa-exclamation-circle fa text-info\"></i>\n",
       "    <span>Cell rolled back.</span>\n",
       "</div>\n",
       "\n",
       "<div class=\"coq_kernel_rich_cell_output coq_kernel_roll_back_controls_area\" style=\"display: none; position: relative;\">\n",
       "    <button class=\"btn btn-default btn-xs coq_kernel_roll_back_button\" onclick=\"CoqKernel.roll_back(this)\">\n",
       "        <i class=\"fa-step-backward fa\"></i>\n",
       "        <span class=\"toolbar-btn-label\">Rollback cell</span>\n",
       "    </button>\n",
       "\n",
       "    <div style=\"display: inline-block; vertical-align: middle; padding-left: 0; padding-right: 0;\">\n",
       "      <input class=\"coq_kernel_auto_roll_back_checkbox\" type=\"checkbox\" value=\"\" onchange=\"CoqKernel.toggle_auto_roll_back(this)\" checked>\n",
       "      <label\">Auto rollback</label>\n",
       "    </div>\n",
       "</div>\n"
      ],
      "text/plain": []
     },
     "execution_count": 150,
     "metadata": {
      "coq_kernel_evaluated": true,
      "coq_kernel_execution_id": "e578b4a5adc0438eb7700832504d6171",
      "coq_kernel_rolled_back": false
     },
     "output_type": "execute_result"
    }
   ],
   "source": [
    "Definition leapfrog_1 x0 v0 h F := \n",
    "    let v12 := v0 + 0.5*  h* F x0 in\n",
    "    let x1  := x0 + h* v0 in\n",
    "    pair x1 v12.\n",
    "    \n",
    "Definition leapfrog x0 v0 h F := \n",
    "    let v12 := snd (leapfrog_1 x0 v0 h F) in\n",
    "    let x1  := fst (leapfrog_1 x0 v0 h F) in\n",
    "    let v1  := v12 + 0.5* h* F x1 in\n",
    "    pair x1 v1."
   ]
  },
  {
   "cell_type": "code",
   "execution_count": 150,
   "metadata": {
    "coq_kernel_metadata": {
     "auto_roll_back": true,
     "cell_id": "66e6b14d8d9d4f968ad7db20642fe374",
     "evaluated": true,
     "execution_id": "3011a9a6d7d9493f925a5f9135fcff31",
     "rolled_back": false
    }
   },
   "outputs": [
    {
     "data": {
      "text/html": [
       "\n",
       "<div class=\"coq_kernel_output_area\">\n",
       "    <pre>Proving: leapfrog_gt\n",
       "\n",
       "No more subgoals</pre>\n",
       "</div>\n",
       "\n",
       "<div class=\"coq_kernel_rich_cell_output coq_kernel_status_message_area\" style=\"padding: 5px 0px;\">\n",
       "    <i class=\"fa-check fa text-success\"></i>\n",
       "    <span>Cell evaluated.</span>\n",
       "</div>\n",
       "\n",
       "<div class=\"coq_kernel_rich_cell_output coq_kernel_status_message_area coq_kernel_rolled_back_status_message\" style=\"padding: 5px 0px; display: none;\">\n",
       "    <i class=\"fa-exclamation-circle fa text-info\"></i>\n",
       "    <span>Cell rolled back.</span>\n",
       "</div>\n",
       "\n",
       "<div class=\"coq_kernel_rich_cell_output coq_kernel_roll_back_controls_area\" style=\"display: none; position: relative;\">\n",
       "    <button class=\"btn btn-default btn-xs coq_kernel_roll_back_button\" onclick=\"CoqKernel.roll_back(this)\">\n",
       "        <i class=\"fa-step-backward fa\"></i>\n",
       "        <span class=\"toolbar-btn-label\">Rollback cell</span>\n",
       "    </button>\n",
       "\n",
       "    <div style=\"display: inline-block; vertical-align: middle; padding-left: 0; padding-right: 0;\">\n",
       "      <input class=\"coq_kernel_auto_roll_back_checkbox\" type=\"checkbox\" value=\"\" onchange=\"CoqKernel.toggle_auto_roll_back(this)\" checked>\n",
       "      <label\">Auto rollback</label>\n",
       "    </div>\n",
       "</div>\n"
      ],
      "text/plain": [
       "Proving: leapfrog_gt\n",
       "\n",
       "No more subgoals"
      ]
     },
     "execution_count": 1055,
     "metadata": {
      "coq_kernel_evaluated": true,
      "coq_kernel_execution_id": "3011a9a6d7d9493f925a5f9135fcff31",
      "coq_kernel_rolled_back": false
     },
     "output_type": "execute_result"
    }
   ],
   "source": [
    "Definition id (x:R) := x.\n",
    "\n",
    "Lemma leapfrog_gt:\n",
    "     forall x0 v0 h,\n",
    "     Rgt x0 0 -> Rgt v0 0 -> Rgt h 0 ->\n",
    "     Rgt (fst (leapfrog_1 x0 v0 h id)) 0. \n",
    "\n",
    "Proof.\n",
    "intros x0 v0 h Hx Hv Hh.\n",
    "unfold leapfrog_1.\n",
    "unfold fst. \n",
    "assert (H1 : Rlt 0 (h * v0)).\n",
    "replace 0 with (h * 0).\n",
    "apply (Rmult_lt_compat_l h 0 v0).\n",
    "unfold Rgt in Hh; auto with real. \n",
    "unfold Rgt in Hv; auto with real.\n",
    "auto with real.\n",
    "unfold Rgt.\n",
    "unfold Rgt in Hx.\n",
    "assert (H2 : Rlt (x0 + 0) (x0 + h * v0)).\n",
    "apply (Rplus_lt_compat_l x0 0 (h*v0)); auto with real.\n",
    "(replace (x0 +0) with (x0) in H2); auto with real.\n",
    "apply (Rlt_trans 0 x0 (x0 + h * v0)); auto with real."
   ]
  }
 ],
 "metadata": {
  "kernelspec": {
   "display_name": "Coq",
   "language": "coq",
   "name": "coq"
  },
  "language_info": {
   "file_extension": ".v",
   "mimetype": "text/x-coq",
   "name": "coq",
   "version": "8.13.2"
  }
 },
 "nbformat": 4,
 "nbformat_minor": 4
}
