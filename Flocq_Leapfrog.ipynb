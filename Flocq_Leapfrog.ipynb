{
 "cells": [
  {
   "cell_type": "code",
   "execution_count": 1,
   "metadata": {
    "coq_kernel_metadata": {
     "auto_roll_back": true,
     "cell_id": "7d6e53e530fe4c0dabcf7844ed0ebd18",
     "evaluated": true,
     "execution_id": "535fc5525d8d441aa6d232743f305785",
     "rolled_back": false
    }
   },
   "outputs": [
    {
     "data": {
      "text/html": [
       "\n",
       "<div class=\"coq_kernel_output_area\">\n",
       "    <pre></pre>\n",
       "</div>\n",
       "\n",
       "<div class=\"coq_kernel_rich_cell_output coq_kernel_status_message_area\" style=\"padding: 5px 0px;\">\n",
       "    <i class=\"fa-check fa text-success\"></i>\n",
       "    <span>Cell evaluated.</span>\n",
       "</div>\n",
       "\n",
       "<div class=\"coq_kernel_rich_cell_output coq_kernel_status_message_area coq_kernel_rolled_back_status_message\" style=\"padding: 5px 0px; display: none;\">\n",
       "    <i class=\"fa-exclamation-circle fa text-info\"></i>\n",
       "    <span>Cell rolled back.</span>\n",
       "</div>\n",
       "\n",
       "<div class=\"coq_kernel_rich_cell_output coq_kernel_roll_back_controls_area\" style=\"display: none; position: relative;\">\n",
       "    <button class=\"btn btn-default btn-xs coq_kernel_roll_back_button\" onclick=\"CoqKernel.roll_back(this)\">\n",
       "        <i class=\"fa-step-backward fa\"></i>\n",
       "        <span class=\"toolbar-btn-label\">Rollback cell</span>\n",
       "    </button>\n",
       "\n",
       "    <div style=\"display: inline-block; vertical-align: middle; padding-left: 0; padding-right: 0;\">\n",
       "      <input class=\"coq_kernel_auto_roll_back_checkbox\" type=\"checkbox\" value=\"\" onchange=\"CoqKernel.toggle_auto_roll_back(this)\" checked>\n",
       "      <label\">Auto rollback</label>\n",
       "    </div>\n",
       "</div>\n"
      ],
      "text/plain": []
     },
     "execution_count": 93,
     "metadata": {
      "coq_kernel_evaluated": true,
      "coq_kernel_execution_id": "535fc5525d8d441aa6d232743f305785",
      "coq_kernel_rolled_back": false
     },
     "output_type": "execute_result"
    }
   ],
   "source": [
    "From Coq Require Import ZArith Reals Psatz.\n",
    "From Flocq Require Import Core Plus_error.\n",
    "\n",
    "Open Scope R_scope."
   ]
  },
  {
   "cell_type": "code",
   "execution_count": 93,
   "metadata": {
    "coq_kernel_metadata": {
     "auto_roll_back": true,
     "cell_id": "5add7606c53f42eb87ae2b0e088e2365",
     "evaluated": true,
     "execution_id": "43ba84eaec204ac580fcd31b5af6414f",
     "rolled_back": false
    }
   },
   "outputs": [
    {
     "data": {
      "text/html": [
       "\n",
       "<div class=\"coq_kernel_output_area\">\n",
       "    <pre></pre>\n",
       "</div>\n",
       "\n",
       "<div class=\"coq_kernel_rich_cell_output coq_kernel_status_message_area\" style=\"padding: 5px 0px;\">\n",
       "    <i class=\"fa-check fa text-success\"></i>\n",
       "    <span>Cell evaluated.</span>\n",
       "</div>\n",
       "\n",
       "<div class=\"coq_kernel_rich_cell_output coq_kernel_status_message_area coq_kernel_rolled_back_status_message\" style=\"padding: 5px 0px; display: none;\">\n",
       "    <i class=\"fa-exclamation-circle fa text-info\"></i>\n",
       "    <span>Cell rolled back.</span>\n",
       "</div>\n",
       "\n",
       "<div class=\"coq_kernel_rich_cell_output coq_kernel_roll_back_controls_area\" style=\"display: none; position: relative;\">\n",
       "    <button class=\"btn btn-default btn-xs coq_kernel_roll_back_button\" onclick=\"CoqKernel.roll_back(this)\">\n",
       "        <i class=\"fa-step-backward fa\"></i>\n",
       "        <span class=\"toolbar-btn-label\">Rollback cell</span>\n",
       "    </button>\n",
       "\n",
       "    <div style=\"display: inline-block; vertical-align: middle; padding-left: 0; padding-right: 0;\">\n",
       "      <input class=\"coq_kernel_auto_roll_back_checkbox\" type=\"checkbox\" value=\"\" onchange=\"CoqKernel.toggle_auto_roll_back(this)\" checked>\n",
       "      <label\">Auto rollback</label>\n",
       "    </div>\n",
       "</div>\n"
      ],
      "text/plain": []
     },
     "execution_count": 124,
     "metadata": {
      "coq_kernel_evaluated": true,
      "coq_kernel_execution_id": "43ba84eaec204ac580fcd31b5af6414f",
      "coq_kernel_rolled_back": false
     },
     "output_type": "execute_result"
    }
   ],
   "source": [
    "Definition leapfrog_1 xn vn h F := \n",
    "    let vnp12 := vn + 0.5*  h* F xn in\n",
    "    let xnp1  := xn + h* vn in\n",
    "    pair xnp1 vnp12.\n",
    "    \n",
    "Definition jacob_leapfrog_1 xn h (dFdx: R -> R) :=\n",
    "    let s1 := 1.0 in\n",
    "    let s2 := h in\n",
    "    let s3 := h* dFdx xn in \n",
    "    let s4 := 1.0 in \n",
    "    pair (pair s1 s2) (pair s3 s4). \n",
    "    \n",
    "Definition leapfrog x0 v0 h F := \n",
    "    let v12 := snd (leapfrog_1 x0 v0 h F) in\n",
    "    let x1  := fst (leapfrog_1 x0 v0 h F) in\n",
    "    let v1  := v12 + 0.5* h* F x1 in\n",
    "    pair x1 v1."
   ]
  },
  {
   "cell_type": "code",
   "execution_count": 128,
   "metadata": {
    "coq_kernel_metadata": {
     "auto_roll_back": true,
     "cell_id": "e2cecc6fa47f4c2cb254bf0bf953c23c",
     "evaluated": true,
     "execution_id": "4123761299854b67babc65f0bc071d53",
     "rolled_back": false
    }
   },
   "outputs": [
    {
     "data": {
      "text/html": [
       "\n",
       "<div class=\"coq_kernel_output_area\">\n",
       "    <pre></pre>\n",
       "</div>\n",
       "\n",
       "<div class=\"coq_kernel_rich_cell_output coq_kernel_status_message_area\" style=\"padding: 5px 0px;\">\n",
       "    <i class=\"fa-check fa text-success\"></i>\n",
       "    <span>Cell evaluated.</span>\n",
       "</div>\n",
       "\n",
       "<div class=\"coq_kernel_rich_cell_output coq_kernel_status_message_area coq_kernel_rolled_back_status_message\" style=\"padding: 5px 0px; display: none;\">\n",
       "    <i class=\"fa-exclamation-circle fa text-info\"></i>\n",
       "    <span>Cell rolled back.</span>\n",
       "</div>\n",
       "\n",
       "<div class=\"coq_kernel_rich_cell_output coq_kernel_roll_back_controls_area\" style=\"display: none; position: relative;\">\n",
       "    <button class=\"btn btn-default btn-xs coq_kernel_roll_back_button\" onclick=\"CoqKernel.roll_back(this)\">\n",
       "        <i class=\"fa-step-backward fa\"></i>\n",
       "        <span class=\"toolbar-btn-label\">Rollback cell</span>\n",
       "    </button>\n",
       "\n",
       "    <div style=\"display: inline-block; vertical-align: middle; padding-left: 0; padding-right: 0;\">\n",
       "      <input class=\"coq_kernel_auto_roll_back_checkbox\" type=\"checkbox\" value=\"\" onchange=\"CoqKernel.toggle_auto_roll_back(this)\" checked>\n",
       "      <label\">Auto rollback</label>\n",
       "    </div>\n",
       "</div>\n"
      ],
      "text/plain": []
     },
     "execution_count": 217,
     "metadata": {
      "coq_kernel_evaluated": true,
      "coq_kernel_execution_id": "4123761299854b67babc65f0bc071d53",
      "coq_kernel_rolled_back": false
     },
     "output_type": "execute_result"
    }
   ],
   "source": [
    "Definition id (x:R) := x.\n",
    "\n",
    "Lemma leapfrog1_gt_v1:\n",
    "     forall x0 v0 h,\n",
    "     Rgt x0 0 -> Rgt v0 0 -> Rgt h 0 ->\n",
    "     Rgt (fst (leapfrog_1 x0 v0 h id)) 0. \n",
    "\n",
    "Proof.\n",
    "intros x0 v0 h Hx Hv Hh.\n",
    "unfold leapfrog_1.\n",
    "unfold fst. \n",
    "assert (H1 : Rlt 0 (h * v0)).\n",
    "replace 0 with (h * 0).\n",
    "apply (Rmult_lt_compat_l h 0 v0).\n",
    "unfold Rgt in Hh; auto with real. \n",
    "unfold Rgt in Hv; auto with real.\n",
    "auto with real.\n",
    "unfold Rgt.\n",
    "unfold Rgt in Hx.\n",
    "assert (H2 : Rlt (x0 + 0) (x0 + h * v0)).\n",
    "apply (Rplus_lt_compat_l x0 0 (h*v0)); auto with real.\n",
    "(replace (x0 +0) with (x0) in H2); auto with real.\n",
    "apply (Rlt_trans 0 x0 (x0 + h * v0)); auto with real.\n",
    "Qed.\n",
    "\n",
    "Lemma leapfrog_gt_v2:\n",
    "     forall x0 v0 h,\n",
    "     Rgt x0 0 -> Rgt v0 0 -> Rgt h 0 ->\n",
    "     Rgt (fst (leapfrog_1 x0 v0 h id)) 0. \n",
    "\n",
    "Proof.\n",
    "intros x0 v0 h Hx Hv Hh.\n",
    "unfold leapfrog_1.\n",
    "unfold fst. \n",
    "nra.\n",
    "Qed."
   ]
  },
  {
   "cell_type": "markdown",
   "metadata": {
    "coq_kernel_metadata": {
     "auto_roll_back": true,
     "cell_id": "77285793d9ce45648621882dd2461cfc",
     "evaluated": false,
     "execution_id": "4efae8b31bf847af8dab1eeed4187f5f",
     "rolled_back": false
    }
   },
   "source": [
    "The following definition of a symplectic map is taken from the paper [Why is the Boris alogrithm so good?](https://aip-scitation-org.proxy.library.cornell.edu/doi/pdf/10.1063/1.4818428), which clearly communicates the fact that symplectic maps are always volume preserving, but volume preserving maps are not necessarily symplectic. "
   ]
  },
  {
   "cell_type": "markdown",
   "metadata": {
    "coq_kernel_metadata": {
     "auto_roll_back": true
    }
   },
   "source": [
    "A one-step map $$\\psi : \\mathbf{z}_k \\equiv (\\mathbf{x}_k, \\mathbf{v}_k) \\rightarrow \\mathbf{z}_{k+1} \\equiv (\\mathbf{x}_{k+1}, \\mathbf{v}_{k+1})$$ is **symplectic** if its [Jacobian matrix](https://en.wikipedia.org/wiki/Jacobian_matrix_and_determinant) $$A = \\frac{\\partial \\psi }{\\partial \\mathbf{z}_k}$$ is **symplectic**. Specifically, if $$A^T J A = J$$ where $$ J =  \\begin{pmatrix}\n",
    "0 & I \\\\\n",
    "-I & 0 \n",
    "\\end{pmatrix}.$$ \n",
    "\n",
    "For a system of dimension $n$, we can write the block Jacobian with blocks of size $n \\times n$, \n",
    "\n",
    "$$ A =  \\begin{pmatrix}\n",
    "S_1 & S_2 \\\\\n",
    "S_3 & S_4\n",
    "\\end{pmatrix}.$$ \n",
    "\n",
    "We can therefore define a **symplectic** Jacobian as one with blocks that satisfy\n",
    "\n",
    "$$S_1S_2^T = S_2S_1^T$$\n",
    "\n",
    "$$S_3S_4^T = S_4S_3^T$$\n",
    "\n",
    "$$S_1S_4^T - S_2S_3^T = I.$$\n",
    "\n",
    "Given that we are working with at most three-dimensions, the above set of necessary and sufficient conditions for symplecticity on the block componenets of the Jacobian allow us to avoid dealing with more abstract definitions of matrices in Coq."
   ]
  },
  {
   "cell_type": "markdown",
   "metadata": {
    "coq_kernel_metadata": {
     "auto_roll_back": true
    }
   },
   "source": [
    "In the one-dimensional case, observe that area-preservation is a sufficient condition for symplecticity. More specifically, the determinant of the Jacobian of a one-dimensional symplectic map is 1. "
   ]
  },
  {
   "cell_type": "code",
   "execution_count": 124,
   "metadata": {
    "coq_kernel_metadata": {
     "auto_roll_back": true,
     "cell_id": "8a4c3fb812cd4a618e0054ae30956cea",
     "evaluated": true,
     "execution_id": "4371277de3df478b8e3525f94ab1a7d5",
     "rolled_back": false
    }
   },
   "outputs": [
    {
     "data": {
      "text/html": [
       "\n",
       "<div class=\"coq_kernel_output_area\">\n",
       "    <pre></pre>\n",
       "</div>\n",
       "\n",
       "<div class=\"coq_kernel_rich_cell_output coq_kernel_status_message_area\" style=\"padding: 5px 0px;\">\n",
       "    <i class=\"fa-check fa text-success\"></i>\n",
       "    <span>Cell evaluated.</span>\n",
       "</div>\n",
       "\n",
       "<div class=\"coq_kernel_rich_cell_output coq_kernel_status_message_area coq_kernel_rolled_back_status_message\" style=\"padding: 5px 0px; display: none;\">\n",
       "    <i class=\"fa-exclamation-circle fa text-info\"></i>\n",
       "    <span>Cell rolled back.</span>\n",
       "</div>\n",
       "\n",
       "<div class=\"coq_kernel_rich_cell_output coq_kernel_roll_back_controls_area\" style=\"display: none; position: relative;\">\n",
       "    <button class=\"btn btn-default btn-xs coq_kernel_roll_back_button\" onclick=\"CoqKernel.roll_back(this)\">\n",
       "        <i class=\"fa-step-backward fa\"></i>\n",
       "        <span class=\"toolbar-btn-label\">Rollback cell</span>\n",
       "    </button>\n",
       "\n",
       "    <div style=\"display: inline-block; vertical-align: middle; padding-left: 0; padding-right: 0;\">\n",
       "      <input class=\"coq_kernel_auto_roll_back_checkbox\" type=\"checkbox\" value=\"\" onchange=\"CoqKernel.toggle_auto_roll_back(this)\" checked>\n",
       "      <label\">Auto rollback</label>\n",
       "    </div>\n",
       "</div>\n"
      ],
      "text/plain": []
     },
     "execution_count": 128,
     "metadata": {
      "coq_kernel_evaluated": true,
      "coq_kernel_execution_id": "4371277de3df478b8e3525f94ab1a7d5",
      "coq_kernel_rolled_back": false
     },
     "output_type": "execute_result"
    }
   ],
   "source": [
    "Definition is_symplectic_1d (jacobian:(R *R)*(R *R)) := \n",
    "    let S1 := fst(fst(jacobian)) in\n",
    "    let S2 := snd(fst(jacobian)) in\n",
    "    let S3 := fst(snd(jacobian)) in\n",
    "    let S4 := snd(snd(jacobian)) in \n",
    "    S1*S4 - S2*S3 = 1."
   ]
  },
  {
   "cell_type": "code",
   "execution_count": 217,
   "metadata": {
    "coq_kernel_metadata": {
     "auto_roll_back": true,
     "cell_id": "27c20f11391d4096bfd86d3ff4c8e1ff",
     "evaluated": true,
     "execution_id": "8d7fa6caa332495da9c860183d1a7f7d",
     "rolled_back": false
    }
   },
   "outputs": [
    {
     "data": {
      "text/html": [
       "\n",
       "<div class=\"coq_kernel_output_area\">\n",
       "    <pre>Proving: leapfrog1_is_symplectic\n",
       "\n",
       "No more subgoals</pre>\n",
       "</div>\n",
       "\n",
       "<div class=\"coq_kernel_rich_cell_output coq_kernel_status_message_area\" style=\"padding: 5px 0px;\">\n",
       "    <i class=\"fa-check fa text-success\"></i>\n",
       "    <span>Cell evaluated.</span>\n",
       "</div>\n",
       "\n",
       "<div class=\"coq_kernel_rich_cell_output coq_kernel_status_message_area coq_kernel_rolled_back_status_message\" style=\"padding: 5px 0px; display: none;\">\n",
       "    <i class=\"fa-exclamation-circle fa text-info\"></i>\n",
       "    <span>Cell rolled back.</span>\n",
       "</div>\n",
       "\n",
       "<div class=\"coq_kernel_rich_cell_output coq_kernel_roll_back_controls_area\" style=\"display: none; position: relative;\">\n",
       "    <button class=\"btn btn-default btn-xs coq_kernel_roll_back_button\" onclick=\"CoqKernel.roll_back(this)\">\n",
       "        <i class=\"fa-step-backward fa\"></i>\n",
       "        <span class=\"toolbar-btn-label\">Rollback cell</span>\n",
       "    </button>\n",
       "\n",
       "    <div style=\"display: inline-block; vertical-align: middle; padding-left: 0; padding-right: 0;\">\n",
       "      <input class=\"coq_kernel_auto_roll_back_checkbox\" type=\"checkbox\" value=\"\" onchange=\"CoqKernel.toggle_auto_roll_back(this)\" checked>\n",
       "      <label\">Auto rollback</label>\n",
       "    </div>\n",
       "</div>\n"
      ],
      "text/plain": [
       "Proving: leapfrog1_is_symplectic\n",
       "\n",
       "No more subgoals"
      ]
     },
     "execution_count": 241,
     "metadata": {
      "coq_kernel_evaluated": true,
      "coq_kernel_execution_id": "8d7fa6caa332495da9c860183d1a7f7d",
      "coq_kernel_rolled_back": false
     },
     "output_type": "execute_result"
    }
   ],
   "source": [
    "Lemma leapfrog1_is_symplectic:\n",
    "     forall x0 h,\n",
    "     x0 = 0 -> Rgt h 0 ->\n",
    "     is_symplectic_1d (jacob_leapfrog_1 x0 h id).\n",
    "     \n",
    "Proof. \n",
    "intros x0 h Hx Hh; unfold is_symplectic_1d; unfold jacob_leapfrog_1; unfold fst; unfold snd; unfold id; nra. "
   ]
  },
  {
   "cell_type": "code",
   "execution_count": null,
   "metadata": {
    "coq_kernel_metadata": {
     "auto_roll_back": true
    }
   },
   "outputs": [],
   "source": []
  }
 ],
 "metadata": {
  "kernelspec": {
   "display_name": "Coq",
   "language": "coq",
   "name": "coq"
  },
  "language_info": {
   "file_extension": ".v",
   "mimetype": "text/x-coq",
   "name": "coq",
   "version": "8.13.2"
  }
 },
 "nbformat": 4,
 "nbformat_minor": 4
}
